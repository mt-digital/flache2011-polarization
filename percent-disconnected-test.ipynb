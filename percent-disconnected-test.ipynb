{
 "cells": [
  {
   "cell_type": "code",
   "execution_count": 1,
   "metadata": {
    "collapsed": true
   },
   "outputs": [],
   "source": [
    "%matplotlib inline\n",
    "import numpy as np\n",
    "import networkx as nx\n",
    "\n",
    "from scipy.misc import comb"
   ]
  },
  {
   "cell_type": "markdown",
   "metadata": {},
   "source": [
    "## Confirming rewire stats from Flache and Macy 2011\n",
    "\n",
    "I'm trying to confirm my implementation is working like Flache and Macy's.\n",
    "Part of this is to confirm my random connection additions are working similarly. Two main claims need to be recreated. First, at the beginning of Section 3.1 of the paper, they say that with a probability of .003 they connect two previously disconnected pairs of agents. \"Averaged across 50 realizations, 28.75 undirected new network ties were added by this procedure, an average increase of the density of about .006. First, let's just check their math."
   ]
  },
  {
   "cell_type": "code",
   "execution_count": 2,
   "metadata": {
    "collapsed": false
   },
   "outputs": [
    {
     "name": "stdout",
     "output_type": "stream",
     "text": [
      "4950.0\n",
      "200.0\n",
      "4750.0\n",
      "\n",
      "28.75/n_disconnected = 0.0061\n"
     ]
    }
   ],
   "source": [
    "# number of possible edges\n",
    "n_possible = comb(100, 2)\n",
    "# number of edges in disconnected caves\n",
    "n_in_caves = 20 * comb(5, 2)\n",
    "# total number of disconnected edges in initial configuration\n",
    "n_disconnected = n_possible - n_in_caves\n",
    "\n",
    "print(n_possible)\n",
    "print(n_in_caves)\n",
    "print(n_disconnected)\n",
    "print()\n",
    "print('28.75/n_disconnected = {:.4f}'.format(28.75/n_disconnected))"
   ]
  },
  {
   "cell_type": "markdown",
   "metadata": {},
   "source": [
    "So it appears the probability was instead .006. This mirrors another concern I had, which was whether or not the density of my networks was matching theirs. They claim the density increased by an average of .006 in their 50 trials. Let's do this trial and calculate the average."
   ]
  },
  {
   "cell_type": "code",
   "execution_count": 3,
   "metadata": {
    "collapsed": false
   },
   "outputs": [
    {
     "name": "stdout",
     "output_type": "stream",
     "text": [
      "add connection probability = .003\n",
      "average density change: 0.002973737373737372\n",
      "add connection probability = .006\n",
      "average density change: 0.005719191919191918\n"
     ]
    }
   ],
   "source": [
    "from macy import Network, caves\n",
    "\n",
    "def test_rewired_density(n_trials=50, add_cxn_prob=.003):\n",
    "\n",
    "    results = np.zeros((int(n_trials),))\n",
    "    for i in range(int(n_trials)):\n",
    "        c = caves(20, 5)\n",
    "        n = Network(c)\n",
    "        pre_rewire_density = nx.density(n.graph)\n",
    "        n.add_random_connections(conn_prob=add_cxn_prob)\n",
    "        results[i] = nx.density(n.graph) - pre_rewire_density\n",
    "\n",
    "    return np.mean(results)\n",
    "\n",
    "\n",
    "print('add connection probability = .003\\naverage density change: {}'.format(\n",
    "        test_rewired_density(n_trials=100, add_cxn_prob=.003))\n",
    "      )\n",
    "\n",
    "print('add connection probability = .006\\naverage density change: {}'.format(\n",
    "        test_rewired_density(n_trials=100, add_cxn_prob=.006)))"
   ]
  },
  {
   "cell_type": "markdown",
   "metadata": {},
   "source": [
    "### What is going on?\n",
    "\n",
    "I believe Flache and Macy are giving a .003 chance to $(a_1, a_2)$ to get an edge, then giving a .003 of adding an edge between $(a_2, a_1)$, even though they are the same thing. I remove symmetric pairs since they are\n",
    "identical in the context of an edge. So I will use a probability of .006 that a given edge will be added in my quest to reproduce Flach and Macy's results.\n",
    "\n",
    "### Number of disconnected graphs that result\n",
    "\n",
    "Flache and Macy say \"we found that on average about four out of 20 caves remained unconnected.\" We can count the number of disconnected caves by finding all subgraphs with exactly five connected agents."
   ]
  },
  {
   "cell_type": "code",
   "execution_count": 4,
   "metadata": {
    "collapsed": false
   },
   "outputs": [],
   "source": [
    "from collections import Counter\n",
    "\n",
    "def test_disconnected_cave_count(n_trials=50, add_cxn_prob=.006):\n",
    "    results = np.zeros((int(n_trials),))\n",
    "    for i in range(int(n_trials)):\n",
    "        c = caves(20, 5)\n",
    "        n = Network(c)\n",
    "        n.add_random_connections(conn_prob=add_cxn_prob)\n",
    "        \n",
    "        component_counts = Counter(\n",
    "            len(el) for el in list(nx.connected_components(n.graph))\n",
    "        )\n",
    "        if 5 in component_counts:\n",
    "            results[i] = component_counts[5]\n",
    "            \n",
    "    return np.mean(results)\n",
    "\n",
    "probs = np.arange(.001, .009, .001)\n",
    "disconnected_caves = [\n",
    "        test_disconnected_cave_count(100, prob)\n",
    "        for prob in probs\n",
    "     ]"
   ]
  },
  {
   "cell_type": "code",
   "execution_count": 5,
   "metadata": {
    "collapsed": false
   },
   "outputs": [
    {
     "data": {
      "text/plain": [
       "<matplotlib.text.Text at 0x115bae3c8>"
      ]
     },
     "execution_count": 5,
     "metadata": {},
     "output_type": "execute_result"
    },
    {
     "data": {
      "image/png": "[encoded data removed]",
      "text/plain": [
       "<matplotlib.figure.Figure at 0x115b65278>"
      ]
     },
     "metadata": {},
     "output_type": "display_data"
    }
   ],
   "source": [
    "plt.plot(probs, disconnected_caves, 'o-', ms=6, color='black', mfc='black')\n",
    "plt.xlim([.0005, .0085])\n",
    "plt.title('Average number of disconnected caves')\n",
    "plt.ylabel('Number of caves')\n",
    "plt.xlabel('Probability of adding connection')"
   ]
  },
  {
   "cell_type": "markdown",
   "metadata": {},
   "source": [
    "It appears the number of caves they say are disconnected on average actually corresponds to a probability of .003. \n",
    "\n",
    "## Conclusion\n",
    "\n",
    "I don't believe I have any bugs in my code, and at this point I do believe there is some inconsistency in the Flache and Macy results for the graph topologies they see. My guess is that for most of the paper they were inadvertantly doubling the probability of selecting an edge by counting pairs of nodes twice. Then, later, maybe at the request of a reviewer, they did the average cave calculation. Or, they just looked at a few results and said \"on average...about...\".\n",
    "\n",
    "I will go ahead with a probability of .006 for my models to match graph densities."
   ]
  }
 ],
 "metadata": {
  "kernelspec": {
   "display_name": "Python 3",
   "language": "python",
   "name": "python3"
  },
  "language_info": {
   "codemirror_mode": {
    "name": "ipython",
    "version": 3
   },
   "file_extension": ".py",
   "mimetype": "text/x-python",
   "name": "python",
   "nbconvert_exporter": "python",
   "pygments_lexer": "ipython3",
   "version": "3.5.2"
  }
 },
 "nbformat": 4,
 "nbformat_minor": 1
}
