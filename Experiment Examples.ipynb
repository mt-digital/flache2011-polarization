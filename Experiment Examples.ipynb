{
 "cells": [
  {
   "cell_type": "markdown",
   "metadata": {},
   "source": [
    "# Introduction and motivation\n",
    "\n",
    "Flache and Macy (2011), FM2011 from here forward, advance opinion dynamics modeling by running dynamical simulations on small-world networks. They build these small-world networks by randomizing two flavors of caveman graphs: the first is the initially unconnected caveman graphs, where there are $N$ nodes split into $k$ fully-connected subgraphs with no connections in between subgraphs. The other method begins with the connected caveman graph (Watts, 1999). The connected caveman is used by Flache and Macy (2011) as well as DellaPosta, et al., (2015). Our first experiments will be using the randomized connected caveman graph, using the method described in DellaPosta, et al., (2015), on pp. 1490-1491. More details can be found in the code implementation in [macy/macy.py](/edit/macy/macy.py).\n",
    "\n",
    "We are testing some variations on the dynamics and experiments of FM2011. We will consider a different scheme for assigning neighbor weights using the cosine similarity. This may change the results that as $K$, the number of opinion features in agent opinion vectors, increases, polarization decreases. However, the distance between agent opinions contains a factor of $1/K$ that may be undesirable. The same distance appears in the calculation of the output measure of polarization. Perhaps this is not what is best for understanding the phenomena of opinion segmentation and polarization. So, we consider this alternative. The first experiment will be to compare simulations that result from\n",
    "\n",
    "As for the experiments themselves, FM2011 only considered initial conditions where agents' opinion features were uniformly distributed across opinion space, specifically in the range $(-1, 1)$. We consider uniform distributions taken from the range $(-S, S)$, where $0 \\leq S < 1$. We also consider the case where agents' opinion updating contains noise, with varying noise levels and variances. We test the effect of initial conditions and noise for various levels of cultural complexity, $K$. \n",
    "\n",
    "In our code, $S$ is represented by the variable `box_width`. The FM2011 experiments are recreated below, where $S=1$, there is no noise, and we set the distance measure to be `'fm2011'`. "
   ]
  },
  {
   "cell_type": "code",
   "execution_count": 15,
   "metadata": {},
   "outputs": [
    {
     "name": "stderr",
     "output_type": "stream",
     "text": [
      "100% (100 of 100) |####################################| Elapsed Time: 0:00:06 Time: 0:00:06\n"
     ]
    },
    {
     "data": {
      "text/plain": [
       "[<matplotlib.lines.Line2D at 0x10bd4c748>]"
      ]
     },
     "execution_count": 15,
     "metadata": {},
     "output_type": "execute_result"
    },
    {
     "name": "stderr",
     "output_type": "stream",
     "text": [
      "/Users/mt/workspace/reproduce-viomet/venv/lib/python3.6/site-packages/matplotlib/figure.py:2022: UserWarning: This figure includes Axes that are not compatible with tight_layout, so results might be incorrect.\n",
      "  warnings.warn(\"This figure includes Axes that are not compatible \"\n"
     ]
    },
    {
     "data": {
      "image/png": "[encoded data removed]",
      "text/plain": [
       "<matplotlib.figure.Figure at 0x10b9b9208>"
      ]
     },
     "metadata": {},
     "output_type": "display_data"
    }
   ],
   "source": [
    "import matplotlib.pyplot as plt\n",
    "\n",
    "from experiments.within_box import BoxedCavesExperiment\n",
    "\n",
    "S = 1.0\n",
    "noise_level = 0.0\n",
    "K = 10\n",
    "rewire_probability = 0.006  # need to double check this\n",
    "\n",
    "# Set up experiment.\n",
    "experiment = BoxedCavesExperiment(5, 20, S, K)\n",
    "experiment.setup(add_cxn_prob=0.01)\n",
    "# Iterate 1000 times. Polarization is saved for each iteration.\n",
    "experiment.iterate(100, noise_level=noise_level)\n",
    "\n",
    "h = experiment.history['polarization']\n",
    "t = [el[0] for el in h]\n",
    "polarization = [el[1] for el in h]\n",
    "plt.plot(t, polarization)"
   ]
  },
  {
   "cell_type": "code",
   "execution_count": 22,
   "metadata": {},
   "outputs": [
    {
     "name": "stderr",
     "output_type": "stream",
     "text": [
      "100% (100 of 100) |####################################| Elapsed Time: 0:00:06 Time: 0:00:06\n",
      "100% (100 of 100) |####################################| Elapsed Time: 0:00:06 Time: 0:00:06\n",
      "100% (100 of 100) |####################################| Elapsed Time: 0:00:06 Time: 0:00:06\n",
      "100% (100 of 100) |####################################| Elapsed Time: 0:00:06 Time: 0:00:06\n"
     ]
    },
    {
     "data": {
      "text/plain": [
       "<matplotlib.legend.Legend at 0x10c875c88>"
      ]
     },
     "execution_count": 22,
     "metadata": {},
     "output_type": "execute_result"
    },
    {
     "name": "stderr",
     "output_type": "stream",
     "text": [
      "/Users/mt/workspace/reproduce-viomet/venv/lib/python3.6/site-packages/matplotlib/figure.py:2022: UserWarning: This figure includes Axes that are not compatible with tight_layout, so results might be incorrect.\n",
      "  warnings.warn(\"This figure includes Axes that are not compatible \"\n"
     ]
    },
    {
     "data": {
      "image/png": "[encoded data removed]",
      "text/plain": [
       "<matplotlib.figure.Figure at 0x10c8ebc50>"
      ]
     },
     "metadata": {},
     "output_type": "display_data"
    }
   ],
   "source": [
    "# Now do K=1, 2, 3, 5\n",
    "for K in [1, 2, 3, 5]:\n",
    "    \n",
    "    experiment = BoxedCavesExperiment(5, 20, S, K)\n",
    "    experiment.setup(add_cxn_prob=0.01)\n",
    "    \n",
    "    experiment.iterate(100, noise_level=noise_level)\n",
    "\n",
    "    h = experiment.history['polarization']\n",
    "    t = [el[0] for el in h]\n",
    "    \n",
    "    polarization = [el[1] for el in h]\n",
    "    plt.plot(t, polarization, label='K={}'.format(K))\n",
    "\n",
    "plt.legend()"
   ]
  },
  {
   "cell_type": "markdown",
   "metadata": {},
   "source": [
    "## The effect of cultural complexity with alternate weighting\n",
    "\n",
    "Now that we have run the FM2011 experiments, we will replace their distance metric in the weight update equations with the cosine similarity, which we write \n",
    "\n",
    "$$\n",
    "d^{cs}_{ij}[t] = \\frac{s_i[t]^Ts_j[t]}{\\lVert s_i[t] \\rVert \\lVert s_j[t] \\rVert}\n",
    "$$"
   ]
  },
  {
   "cell_type": "markdown",
   "metadata": {},
   "source": [
    "## Constrained initial opinions\n",
    "\n",
    "\n",
    "Here we build on Flache and Macy (2011) by considering the effect of initial opinions on final polarization."
   ]
  },
  {
   "cell_type": "markdown",
   "metadata": {},
   "source": [
    "## Noisy opinion updates"
   ]
  },
  {
   "cell_type": "code",
   "execution_count": null,
   "metadata": {},
   "outputs": [],
   "source": []
  },
  {
   "cell_type": "markdown",
   "metadata": {},
   "source": [
    "DellaPosta, D., Shi, Y., & Macy, M. (2015). Why Do Liberals Drink Lattes? American Journal of Sociology, 120(5), 1473–1511. http://doi.org/10.1086/681254\n",
    "\n",
    "Flache, A., & Macy, M. W. (2011). Small Worlds and Cultural Polarization. The Journal of Mathematical Sociology, 35(1–3), 146–176.\n",
    "\n",
    "Watts, D. J. (1999). Networks, Dynamics, and the Small World Phenomenon. American Journal of Sociology. http://doi.org/10.1086/210318"
   ]
  }
 ],
 "metadata": {
  "kernelspec": {
   "display_name": "venv",
   "language": "python",
   "name": "venv"
  },
  "language_info": {
   "codemirror_mode": {
    "name": "ipython",
    "version": 3
   },
   "file_extension": ".py",
   "mimetype": "text/x-python",
   "name": "python",
   "nbconvert_exporter": "python",
   "pygments_lexer": "ipython3",
   "version": "3.6.4"
  }
 },
 "nbformat": 4,
 "nbformat_minor": 2
}
